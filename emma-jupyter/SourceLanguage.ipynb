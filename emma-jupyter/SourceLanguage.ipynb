{
 "cells": [
  {
   "cell_type": "markdown",
   "metadata": {},
   "source": [
    "# Emma Source Language\n",
    "\n",
    "Emma is a *domain-specific language (DSL)* for parallel data analysis embedded in Scala. As such, Emma accepts a subset of Scala as valid source expressions. The language induced by this set is called the *Emma Source* and is introduced by example below."
   ]
  },
  {
   "cell_type": "markdown",
   "metadata": {},
   "source": [
    "## Notebook Setup\n",
    "\n",
    "The snippet assumes that you have installed the current version of the Emma in your local Maven repository before opeining the notebook. If this is not the case, you should do this from the project root with the following Maven command.\n",
    "\n",
    "```\n",
    "mvn clean install -DskipTests\n",
    "```\n",
    "\n",
    "We can then load the `emma-language` artifact as follows."
   ]
  },
  {
   "cell_type": "code",
   "execution_count": 1,
   "metadata": {
    "collapsed": false
   },
   "outputs": [
    {
     "name": "stdout",
     "output_type": "stream",
     "text": [
      "Adding 18 artifact(s)\n"
     ]
    },
    {
     "data": {
      "text/plain": []
     },
     "metadata": {},
     "output_type": "display_data"
    }
   ],
   "source": [
    "// register the maven repository\n",
    "classpath.addRepository(\n",
    "  s\"file://${System.getenv(\"HOME\")}/.m2/repository/\"\n",
    ")\n",
    "// add the required manen modules\n",
    "classpath.add(\"eu.stratosphere\" % \"emma-language\" % \"1.0-SNAPSHOT\")"
   ]
  },
  {
   "cell_type": "markdown",
   "metadata": {},
   "source": [
    "## Compiler Infrastructure\n",
    "\n",
    "Scala offers facilities for both compile-time and runtime reflection (for more information, read the [Reflection Overview](http://docs.scala-lang.org/overviews/reflection/overview.html) documentation.\n",
    "While the two APIs are mostly similar, there are some subtle differences that need to be considered.\n",
    "\n",
    "Emma unifies the two approaches under a single `Compiler` interface with two implementations:\n",
    "\n",
    "- [`MacroCompiler`](https://github.com/stratosphere/emma/blob/newir/emma-language/src/main/scala/eu/stratosphere/emma/compiler/MacroCompiler.scala) (which operates at compile-time), and \n",
    "- [`RuntimeCompiler`](https://github.com/stratosphere/emma/blob/newir/emma-language/src/main/scala/eu/stratosphere/emma/compiler/RuntimeCompiler.scala) (which operates at runtime).\n",
    "\n",
    "This unified approach gives people playing with the Emma compiler infrastructure the freedom to decide ad-hoc which parts of the compiler pipeline are performed during the statically and which dynamically.\n",
    "\n",
    "The examples below are illustrated based on the `RuntimeCompiler`, which is instantiated as follows."
   ]
  },
  {
   "cell_type": "code",
   "execution_count": 2,
   "metadata": {
    "collapsed": false
   },
   "outputs": [
    {
     "data": {
      "text/plain": [
       "\u001b[32mimport \u001b[36meu.stratosphere.emma.compiler.RuntimeCompiler\u001b[0m\n",
       "\u001b[36mcompiler\u001b[0m: \u001b[32meu\u001b[0m.\u001b[32mstratosphere\u001b[0m.\u001b[32memma\u001b[0m.\u001b[32mcompiler\u001b[0m.\u001b[32mRuntimeCompiler\u001b[0m = eu.stratosphere.emma.compiler.RuntimeCompiler@7bc175bb"
      ]
     },
     "metadata": {},
     "output_type": "display_data"
    }
   ],
   "source": [
    "import eu.stratosphere.emma.compiler.RuntimeCompiler\n",
    "val compiler = new RuntimeCompiler()"
   ]
  },
  {
   "cell_type": "markdown",
   "metadata": {},
   "source": [
    "Once we have a `Compiler` instance, we can import the (path-dependent) `Tree` universe."
   ]
  },
  {
   "cell_type": "code",
   "execution_count": 3,
   "metadata": {
    "collapsed": false
   },
   "outputs": [
    {
     "data": {
      "text/plain": [
       "\u001b[32mimport \u001b[36mcompiler.universe._\u001b[0m"
      ]
     },
     "metadata": {},
     "output_type": "display_data"
    }
   ],
   "source": [
    "import compiler.universe._"
   ]
  },
  {
   "cell_type": "markdown",
   "metadata": {},
   "source": [
    "## Compiler Pipelines\n",
    "\n",
    "The `Compiler` trait mixes is a sequence of traits which add functionality in a modular way.\n",
    "\n",
    "Each trait defines a set of referentially transparent (i.e., *functional*) transformations that consume a Scala `Tree` and produce a new `Tree`.\n",
    "\n",
    "Compilation pipelines can defined in the so-called *point-free* style by means of chaining such transformation functions using the `andThen` combinator.\n",
    "\n",
    "For example, a trivial compiler pippeline that just typechecks a reified Scala expression can be defined as follows."
   ]
  },
  {
   "cell_type": "code",
   "execution_count": 4,
   "metadata": {
    "collapsed": false
   },
   "outputs": [
    {
     "data": {
      "text/plain": [
       "defined \u001b[32mfunction \u001b[36mtypeCheck\u001b[0m"
      ]
     },
     "metadata": {},
     "output_type": "display_data"
    }
   ],
   "source": [
    "def typeCheck[T]: Expr[T] => Tree = {\n",
    "  (_: Expr[T]).tree\n",
    "} andThen {\n",
    "  compiler.Type.check(_: Tree)\n",
    "}"
   ]
  },
  {
   "cell_type": "markdown",
   "metadata": {},
   "source": [
    "To see this pipeline at work, reify a Scala code snippet and pass it as an argument to the `typeCheck` method."
   ]
  },
  {
   "cell_type": "code",
   "execution_count": 5,
   "metadata": {
    "collapsed": false
   },
   "outputs": [
    {
     "data": {
      "text/plain": [
       "\u001b[36mQandA\u001b[0m: \u001b[32mTree\u001b[0m = {\n",
       "  val Q: String = \"What is the meaning of Life, the Universe, and Everything?\";\n",
       "  val A: Int = 42;\n",
       "  ()\n",
       "}"
      ]
     },
     "metadata": {},
     "output_type": "display_data"
    }
   ],
   "source": [
    "val QandA = typeCheck(reify {\n",
    "  val Q = \"What is the meaning of Life, the Universe, and Everything?\"\n",
    "  val A = 42\n",
    "})"
   ]
  },
  {
   "cell_type": "markdown",
   "metadata": {},
   "source": [
    "## Language Constructs\n",
    "\n",
    "The [`Source`](https://github.com/stratosphere/emma/blob/newir/emma-language/src/main/scala/eu/stratosphere/emma/compiler/lang/Source.scala) trait defines a `Source` object that contains facilities for handling *Emma Source* expressions."
   ]
  },
  {
   "cell_type": "code",
   "execution_count": 6,
   "metadata": {
    "collapsed": false
   },
   "outputs": [
    {
     "data": {
      "text/plain": [
       "\u001b[32mimport \u001b[36mcompiler.Source\u001b[0m"
      ]
     },
     "metadata": {},
     "output_type": "display_data"
    }
   ],
   "source": [
    "import compiler.Source"
   ]
  },
  {
   "cell_type": "markdown",
   "metadata": {},
   "source": [
    "The `Source.Language` member contains a set of objects corresponding to the basic language features."
   ]
  },
  {
   "cell_type": "code",
   "execution_count": 7,
   "metadata": {
    "collapsed": false
   },
   "outputs": [
    {
     "data": {
      "text/plain": [
       "\u001b[32mimport \u001b[36mSource.Language._\u001b[0m"
      ]
     },
     "metadata": {},
     "output_type": "display_data"
    }
   ],
   "source": [
    "import Source.Language._"
   ]
  },
  {
   "cell_type": "markdown",
   "metadata": {},
   "source": [
    "We are also going to use the `eq` method which checks alpha-equivalence between Source trees."
   ]
  },
  {
   "cell_type": "code",
   "execution_count": 8,
   "metadata": {
    "collapsed": false
   },
   "outputs": [
    {
     "data": {
      "text/plain": [
       "\u001b[32mimport \u001b[36mSource.Language.eq\u001b[0m"
      ]
     },
     "metadata": {},
     "output_type": "display_data"
    }
   ],
   "source": [
    "import Source.Language.eq"
   ]
  },
  {
   "cell_type": "markdown",
   "metadata": {
    "collapsed": false
   },
   "source": [
    "### Atomic Expresssions"
   ]
  },
  {
   "cell_type": "markdown",
   "metadata": {
    "collapsed": true
   },
   "source": [
    "The `QandA` code snippet gives us some ideas about the Scala language constructs supported by Emma.\n",
    "\n",
    "The `Source.Language` primitive that models literals is `lit`. It enables (1) explicit construction and (2) pattern matching of literal trees."
   ]
  },
  {
   "cell_type": "code",
   "execution_count": 9,
   "metadata": {
    "collapsed": false
   },
   "outputs": [
    {
     "data": {
      "text/plain": [
       "defined \u001b[32mobject \u001b[36mlit$act\u001b[0m\n",
       "defined \u001b[32mobject \u001b[36mlit$exp\u001b[0m\n",
       "\u001b[36mres8_2\u001b[0m: \u001b[32mSeq\u001b[0m[\u001b[32mAny\u001b[0m] = \u001b[33mList\u001b[0m(42, 42)"
      ]
     },
     "metadata": {},
     "output_type": "display_data"
    }
   ],
   "source": [
    "// quoted Emma Source code\n",
    "object lit$act {\n",
    "  val code: Tree = typeCheck(reify { \n",
    "    42\n",
    "  })\n",
    "}\n",
    "\n",
    "// constructed Emma Source tree\n",
    "object lit$exp {\n",
    "  val code: Tree = lit(42)\n",
    "}\n",
    "\n",
    "// destructed Emma Source tree (pattern matching)\n",
    "Seq(lit$act.code, lit$exp.code) collect {\n",
    "  case lit(v) => v\n",
    "}"
   ]
  }
 ],
 "metadata": {
  "kernelspec": {
   "display_name": "Scala 2.11",
   "language": "scala211",
   "name": "scala211"
  },
  "language_info": {
   "codemirror_mode": "text/x-scala",
   "file_extension": ".scala",
   "mimetype": "text/x-scala",
   "name": "scala211",
   "pygments_lexer": "scala",
   "version": "2.11.7"
  }
 },
 "nbformat": 4,
 "nbformat_minor": 0
}
